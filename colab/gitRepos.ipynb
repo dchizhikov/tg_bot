{
  "nbformat": 4,
  "nbformat_minor": 0,
  "metadata": {
    "colab": {
      "provenance": [],
      "toc_visible": true
    },
    "kernelspec": {
      "name": "python3",
      "display_name": "Python 3"
    },
    "language_info": {
      "name": "python"
    }
  },
  "cells": [
    {
      "cell_type": "code",
      "source": [
        "!pip freeze"
      ],
      "metadata": {
        "id": "1XpDvMGqaoyR"
      },
      "execution_count": null,
      "outputs": []
    },
    {
      "cell_type": "code",
      "source": [
        "import os\n",
        "#import random\n",
        "import requests\n",
        "\n",
        "from google.colab import userdata\n",
        "userdata.get('test')"
      ],
      "metadata": {
        "colab": {
          "base_uri": "https://localhost:8080/",
          "height": 35
        },
        "id": "4Tz7ieDGgz3F",
        "outputId": "980e2e41-5cd8-497b-e598-0dd2fa26855d"
      },
      "execution_count": null,
      "outputs": [
        {
          "output_type": "execute_result",
          "data": {
            "text/plain": [
              "'1'"
            ],
            "application/vnd.google.colaboratory.intrinsic+json": {
              "type": "string"
            }
          },
          "metadata": {},
          "execution_count": 178
        }
      ]
    },
    {
      "cell_type": "code",
      "execution_count": null,
      "metadata": {
        "id": "IXk2Fouf2vdF"
      },
      "outputs": [],
      "source": [
        "user_name = \"dchizhikov\"\n",
        "repo_name_git = \"databases\"\n",
        "\n",
        "url = \"https://raw.githubusercontent.com/\"+user_name+\"/\"+repo_name_git+\"/main/git_commands.py\"\n",
        "response = requests.get(url)\n",
        "\n",
        "with open('git_com.py', 'w') as f:\n",
        "  f.write(response.text)"
      ]
    },
    {
      "cell_type": "code",
      "source": [
        "repo_name = \"UML\" #UML #databases\n",
        "myRepo = \"/content/\"+repo_name\n",
        "repo_url = \"https://github.com/\"+user_name+\"/\"+repo_name\n",
        "os.system(f\"rm -rf {myRepo}\") #!rm -rf $myRepo"
      ],
      "metadata": {
        "id": "8CzvmJ87dE2y",
        "colab": {
          "base_uri": "https://localhost:8080/"
        },
        "outputId": "d14c0a7a-8f71-4e21-8049-5ea879ab9e30"
      },
      "execution_count": null,
      "outputs": [
        {
          "output_type": "execute_result",
          "data": {
            "text/plain": [
              "0"
            ]
          },
          "metadata": {},
          "execution_count": 169
        }
      ]
    },
    {
      "cell_type": "code",
      "source": [
        "import git_com as gc\n",
        "import importlib\n",
        "importlib.reload(gc)"
      ],
      "metadata": {
        "colab": {
          "base_uri": "https://localhost:8080/"
        },
        "id": "Mu4_NRUnhmgy",
        "outputId": "6a3a3bdb-6b24-40b6-a1ed-97774ca0b901"
      },
      "execution_count": null,
      "outputs": [
        {
          "output_type": "execute_result",
          "data": {
            "text/plain": [
              "<module 'git_com' from '/content/git_com.py'>"
            ]
          },
          "metadata": {},
          "execution_count": 170
        }
      ]
    },
    {
      "cell_type": "code",
      "source": [
        "gc.git_clone(repo_url)\n",
        "branch = \"origin_471F\"\n",
        "remote_branch = \"main\"\n",
        "gc.git_pull(branch, remote_branch)"
      ],
      "metadata": {
        "id": "GctwgSRc3d88"
      },
      "execution_count": null,
      "outputs": []
    },
    {
      "cell_type": "code",
      "source": [
        "workFile = \"/content/\"+repo_name+\"/display_view.py\" #\"/git_commands.py\"\n",
        "#workFile = \"/content/\"+repo_name+\"/orders_examples/links.puml\"\n",
        "%cat $workFile"
      ],
      "metadata": {
        "id": "IrrekgWaaRPx",
        "colab": {
          "base_uri": "https://localhost:8080/"
        },
        "outputId": "8acf65ae-97f1-4a59-d55d-8710eb58efb3"
      },
      "execution_count": null,
      "outputs": [
        {
          "output_type": "stream",
          "name": "stdout",
          "text": [
            "cat: /content/UML/display_view.py: No such file or directory\n"
          ]
        }
      ]
    },
    {
      "cell_type": "code",
      "source": [
        "#%%writefile $workFile\n",
        "a='''файл'''\n",
        "with open(workFile, 'w') as f:\n",
        "  f.write(a)"
      ],
      "metadata": {
        "id": "DnHGFCWBI0HQ"
      },
      "execution_count": null,
      "outputs": []
    },
    {
      "cell_type": "code",
      "source": [
        "%cd $myRepo\n",
        "gc.git_config(user_name)\n",
        "gc.git_remote(myRepo, repo_name, branch, user_name,\n",
        "              userdata.get('public_token'))"
      ],
      "metadata": {
        "colab": {
          "base_uri": "https://localhost:8080/"
        },
        "id": "aadwYJHjeDQr",
        "outputId": "0ad24f64-ad81-4d33-df37-7822ef9ce495"
      },
      "execution_count": null,
      "outputs": [
        {
          "output_type": "stream",
          "name": "stdout",
          "text": [
            "/content/UML\n"
          ]
        }
      ]
    },
    {
      "cell_type": "code",
      "source": [
        "%cd $myRepo\n",
        "gc.git_add() #!git add ."
      ],
      "metadata": {
        "colab": {
          "base_uri": "https://localhost:8080/"
        },
        "id": "uLxlE7ZWfSDb",
        "outputId": "f83e9b1b-8008-40f2-9016-e4fdb9b653e7"
      },
      "execution_count": null,
      "outputs": [
        {
          "output_type": "stream",
          "name": "stdout",
          "text": [
            "/content/UML\n"
          ]
        }
      ]
    },
    {
      "cell_type": "code",
      "source": [
        "message = 'display_view.py 1 commit message'\n",
        "gc.git_commit(message)"
      ],
      "metadata": {
        "id": "A9Q8BNJMFbC7"
      },
      "execution_count": null,
      "outputs": []
    },
    {
      "cell_type": "code",
      "source": [
        "gc.git_remove(\"origin\")\n",
        "!git remote -v"
      ],
      "metadata": {
        "id": "wcVp3-E3z21I"
      },
      "execution_count": null,
      "outputs": []
    },
    {
      "cell_type": "code",
      "source": [
        "gc.git_push(branch, remote_branch)"
      ],
      "metadata": {
        "id": "YcYPfD9sZ9bC"
      },
      "execution_count": null,
      "outputs": []
    },
    {
      "cell_type": "code",
      "source": [
        "#!git log -p"
      ],
      "metadata": {
        "id": "YwN0qOmhA5ra"
      },
      "execution_count": null,
      "outputs": []
    }
  ]
}